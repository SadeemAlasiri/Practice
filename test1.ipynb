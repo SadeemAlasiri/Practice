{
  "nbformat": 4,
  "nbformat_minor": 0,
  "metadata": {
    "colab": {
      "provenance": [],
      "authorship_tag": "ABX9TyNKxAVLDSAuG5R/NY7Xdgpz",
      "include_colab_link": true
    },
    "kernelspec": {
      "name": "python3",
      "display_name": "Python 3"
    },
    "language_info": {
      "name": "python"
    }
  },
  "cells": [
    {
      "cell_type": "markdown",
      "metadata": {
        "id": "view-in-github",
        "colab_type": "text"
      },
      "source": [
        "<a href=\"https://colab.research.google.com/github/SadeemAlasiri/Practice/blob/main/test1.ipynb\" target=\"_parent\"><img src=\"https://colab.research.google.com/assets/colab-badge.svg\" alt=\"Open In Colab\"/></a>"
      ]
    },
    {
      "cell_type": "markdown",
      "source": [
        "This is test for math"
      ],
      "metadata": {
        "id": "7dB07zWa38IG"
      }
    },
    {
      "cell_type": "code",
      "execution_count": null,
      "metadata": {
        "colab": {
          "base_uri": "https://localhost:8080/"
        },
        "id": "CT6kIOcF33ml",
        "outputId": "d1fc884a-9dcc-4301-c945-6d4901026d9d"
      },
      "outputs": [
        {
          "output_type": "stream",
          "name": "stdout",
          "text": [
            "a is greater than c ,true\n",
            "105 SAR\n",
            "<class 'str'>\n",
            "['Sara', 'Ahmad', 'Asma', 'Bnder']\n",
            "4\n",
            "This is for loop from 1 to 10\n",
            "1\n",
            "2\n",
            "3\n",
            "4\n",
            "5\n",
            "6\n",
            "7\n",
            "8\n",
            "9\n",
            "10\n"
          ]
        }
      ],
      "source": [
        "#print True or False\n",
        "a=100\n",
        "c=90\n",
        "if c<a:\n",
        "  print(\"a is greater than c ,true\")\n",
        "else:\n",
        "   print(\"a is less than c ,False\")\n",
        "\n",
        "\n",
        "    #Find the result for the bayment : sadeem bay orang and bnana where orang is x and bnana is y\n",
        "x=5\n",
        "y=100\n",
        "z=\"SAR\"\n",
        "print( x + y,z)\n",
        "print(type(z))\n",
        "\n",
        "#print list of name\n",
        "thislist = [\"Sara\",\"Ahmad\",\"Asma\",\"Bnder\"]\n",
        "print(thislist)\n",
        "print(len(thislist))#print the lenth of the names list\n",
        "print(\"This is for loop from 1 to 10\")\n",
        "#For loop for range\n",
        "for x in range(1,11):\n",
        "  print(x)\n",
        "\n"
      ]
    },
    {
      "cell_type": "code",
      "source": [],
      "metadata": {
        "id": "SQPuNIGU969p"
      },
      "execution_count": null,
      "outputs": []
    }
  ]
}